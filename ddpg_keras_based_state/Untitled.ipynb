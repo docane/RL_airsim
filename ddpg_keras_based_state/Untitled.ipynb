{
 "cells": [
  {
   "cell_type": "code",
   "execution_count": 1,
   "id": "46288cb9",
   "metadata": {},
   "outputs": [],
   "source": [
    "import numpy as np\n",
    "import pandas as pd\n",
    "import keras\n",
    "from keras.layers import Dense\n",
    "from keras.optimizers import Adam"
   ]
  },
  {
   "cell_type": "code",
   "execution_count": 2,
   "id": "7f7f0417",
   "metadata": {},
   "outputs": [],
   "source": [
    "df = pd.read_csv('./data/airsim_rec.txt', sep='\\t')\n",
    "df = df[['POS_X', 'POS_Y']]\n",
    "max_x = df['POS_X'].max()\n",
    "min_x = df['POS_X'].min()\n",
    "max_y = df['POS_Y'].max()\n",
    "min_y = df['POS_Y'].min()\n",
    "x = np.reshape(np.array(df['POS_X'].values, dtype=np.float32), (-1, 1))\n",
    "y = np.reshape(np.array(df['POS_Y'].values, dtype=np.float32), (-1, 1))\n",
    "x = (x - min_x) / (max_x - min_x)\n",
    "y = (y - min_y) / (max_y - min_y)"
   ]
  },
  {
   "cell_type": "code",
   "execution_count": 3,
   "id": "44d7978c",
   "metadata": {},
   "outputs": [],
   "source": [
    "model = keras.Sequential([\n",
    "    Dense(units=1024, activation='relu'),\n",
    "    Dense(units=512, activation='relu'),\n",
    "    Dense(units=256, activation='relu'),\n",
    "    Dense(units=1)\n",
    "])\n",
    "\n",
    "model.compile(optimizer=Adam(learning_rate=0.001), loss='mse')\n",
    "model.build(input_shape=(None, 1))"
   ]
  },
  {
   "cell_type": "code",
   "execution_count": 4,
   "id": "dac1e79a",
   "metadata": {},
   "outputs": [
    {
     "name": "stdout",
     "output_type": "stream",
     "text": [
      "Epoch 1/100\n",
      "233/233 [==============================] - 1s 2ms/step - loss: 0.0219\n",
      "Epoch 2/100\n",
      "233/233 [==============================] - 0s 2ms/step - loss: 0.0028\n",
      "Epoch 3/100\n",
      "233/233 [==============================] - 0s 2ms/step - loss: 0.0025\n",
      "Epoch 4/100\n",
      "233/233 [==============================] - 0s 2ms/step - loss: 0.0020\n",
      "Epoch 5/100\n",
      "233/233 [==============================] - 0s 2ms/step - loss: 0.0014\n",
      "Epoch 6/100\n",
      "233/233 [==============================] - 0s 2ms/step - loss: 0.0014\n",
      "Epoch 7/100\n",
      "233/233 [==============================] - 0s 2ms/step - loss: 0.0011\n",
      "Epoch 8/100\n",
      "233/233 [==============================] - 0s 2ms/step - loss: 0.0012\n",
      "Epoch 9/100\n",
      "233/233 [==============================] - 0s 2ms/step - loss: 0.0012\n",
      "Epoch 10/100\n",
      "233/233 [==============================] - 0s 2ms/step - loss: 0.0010\n",
      "Epoch 11/100\n",
      "233/233 [==============================] - 0s 2ms/step - loss: 0.0010\n",
      "Epoch 12/100\n",
      "233/233 [==============================] - 0s 2ms/step - loss: 0.0013\n",
      "Epoch 13/100\n",
      "233/233 [==============================] - 0s 2ms/step - loss: 0.0012\n",
      "Epoch 14/100\n",
      "233/233 [==============================] - 0s 2ms/step - loss: 9.7864e-04\n",
      "Epoch 15/100\n",
      "233/233 [==============================] - 0s 2ms/step - loss: 9.5453e-04\n",
      "Epoch 16/100\n",
      "233/233 [==============================] - 0s 2ms/step - loss: 0.0010\n",
      "Epoch 17/100\n",
      "233/233 [==============================] - 0s 2ms/step - loss: 0.0010\n",
      "Epoch 18/100\n",
      "233/233 [==============================] - 0s 2ms/step - loss: 8.7826e-04\n",
      "Epoch 19/100\n",
      "233/233 [==============================] - 0s 2ms/step - loss: 9.9849e-04\n",
      "Epoch 20/100\n",
      "233/233 [==============================] - 0s 2ms/step - loss: 8.9062e-04\n",
      "Epoch 21/100\n",
      "233/233 [==============================] - 0s 2ms/step - loss: 9.0588e-04\n",
      "Epoch 22/100\n",
      "233/233 [==============================] - 0s 2ms/step - loss: 9.2418e-04\n",
      "Epoch 23/100\n",
      "233/233 [==============================] - 0s 2ms/step - loss: 7.7534e-04\n",
      "Epoch 24/100\n",
      "233/233 [==============================] - 0s 2ms/step - loss: 8.3937e-04\n",
      "Epoch 25/100\n",
      "233/233 [==============================] - 0s 2ms/step - loss: 7.5454e-04\n",
      "Epoch 26/100\n",
      "233/233 [==============================] - 0s 2ms/step - loss: 8.3243e-04\n",
      "Epoch 27/100\n",
      "233/233 [==============================] - 0s 2ms/step - loss: 7.3390e-04\n",
      "Epoch 28/100\n",
      "233/233 [==============================] - 0s 2ms/step - loss: 0.0010\n",
      "Epoch 29/100\n",
      "233/233 [==============================] - 0s 2ms/step - loss: 7.5849e-04\n",
      "Epoch 30/100\n",
      "233/233 [==============================] - 0s 2ms/step - loss: 7.9170e-04\n",
      "Epoch 31/100\n",
      "233/233 [==============================] - 0s 2ms/step - loss: 8.5789e-04\n",
      "Epoch 32/100\n",
      "233/233 [==============================] - 0s 2ms/step - loss: 8.6018e-04\n",
      "Epoch 33/100\n",
      "233/233 [==============================] - 0s 2ms/step - loss: 7.9773e-04\n",
      "Epoch 34/100\n",
      "233/233 [==============================] - 0s 2ms/step - loss: 8.5104e-04\n",
      "Epoch 35/100\n",
      "233/233 [==============================] - 0s 2ms/step - loss: 7.0391e-04\n",
      "Epoch 36/100\n",
      "233/233 [==============================] - 0s 2ms/step - loss: 7.8461e-04\n",
      "Epoch 37/100\n",
      "233/233 [==============================] - 0s 2ms/step - loss: 7.0343e-04\n",
      "Epoch 38/100\n",
      "233/233 [==============================] - 0s 2ms/step - loss: 8.1495e-04\n",
      "Epoch 39/100\n",
      "233/233 [==============================] - 0s 2ms/step - loss: 7.7076e-04\n",
      "Epoch 40/100\n",
      "233/233 [==============================] - 0s 2ms/step - loss: 7.4006e-04\n",
      "Epoch 41/100\n",
      "233/233 [==============================] - 0s 2ms/step - loss: 7.9136e-04\n",
      "Epoch 42/100\n",
      "233/233 [==============================] - 0s 2ms/step - loss: 7.1746e-04\n",
      "Epoch 43/100\n",
      "233/233 [==============================] - 0s 2ms/step - loss: 7.0066e-04\n",
      "Epoch 44/100\n",
      "233/233 [==============================] - 0s 2ms/step - loss: 7.7302e-04\n",
      "Epoch 45/100\n",
      "233/233 [==============================] - 0s 2ms/step - loss: 7.4336e-04\n",
      "Epoch 46/100\n",
      "233/233 [==============================] - 0s 2ms/step - loss: 7.6808e-04\n",
      "Epoch 47/100\n",
      "233/233 [==============================] - 0s 2ms/step - loss: 7.3976e-04\n",
      "Epoch 48/100\n",
      "233/233 [==============================] - 0s 2ms/step - loss: 6.9552e-04\n",
      "Epoch 49/100\n",
      "233/233 [==============================] - 0s 2ms/step - loss: 6.9838e-04\n",
      "Epoch 50/100\n",
      "233/233 [==============================] - 0s 2ms/step - loss: 6.8031e-04\n",
      "Epoch 51/100\n",
      "233/233 [==============================] - 0s 2ms/step - loss: 8.3305e-04\n",
      "Epoch 52/100\n",
      "233/233 [==============================] - 0s 2ms/step - loss: 7.2302e-04\n",
      "Epoch 53/100\n",
      "233/233 [==============================] - 0s 2ms/step - loss: 7.7962e-04\n",
      "Epoch 54/100\n",
      "233/233 [==============================] - 0s 2ms/step - loss: 6.5889e-04\n",
      "Epoch 55/100\n",
      "233/233 [==============================] - 0s 2ms/step - loss: 6.9886e-04\n",
      "Epoch 56/100\n",
      "233/233 [==============================] - 0s 2ms/step - loss: 7.2087e-04\n",
      "Epoch 57/100\n",
      "233/233 [==============================] - 0s 2ms/step - loss: 6.5649e-04\n",
      "Epoch 58/100\n",
      "233/233 [==============================] - 0s 2ms/step - loss: 6.1633e-04\n",
      "Epoch 59/100\n",
      "233/233 [==============================] - 0s 2ms/step - loss: 6.8629e-04\n",
      "Epoch 60/100\n",
      "233/233 [==============================] - 0s 2ms/step - loss: 6.3043e-04\n",
      "Epoch 61/100\n",
      "233/233 [==============================] - 0s 2ms/step - loss: 6.3265e-04\n",
      "Epoch 62/100\n",
      "233/233 [==============================] - 0s 2ms/step - loss: 6.7444e-04\n",
      "Epoch 63/100\n",
      "233/233 [==============================] - 0s 2ms/step - loss: 6.7678e-04\n",
      "Epoch 64/100\n",
      "233/233 [==============================] - 0s 2ms/step - loss: 7.8443e-04\n",
      "Epoch 65/100\n",
      "233/233 [==============================] - 0s 2ms/step - loss: 7.2529e-04\n",
      "Epoch 66/100\n",
      "233/233 [==============================] - 0s 2ms/step - loss: 6.5031e-04\n",
      "Epoch 67/100\n",
      "233/233 [==============================] - 0s 2ms/step - loss: 6.6282e-04\n",
      "Epoch 68/100\n",
      "233/233 [==============================] - 0s 2ms/step - loss: 6.3093e-04\n",
      "Epoch 69/100\n",
      "233/233 [==============================] - 0s 2ms/step - loss: 6.8925e-04\n",
      "Epoch 70/100\n",
      "233/233 [==============================] - 0s 2ms/step - loss: 6.5900e-04\n",
      "Epoch 71/100\n",
      "233/233 [==============================] - 0s 2ms/step - loss: 6.3768e-04\n",
      "Epoch 72/100\n",
      "233/233 [==============================] - 0s 2ms/step - loss: 6.5770e-04\n",
      "Epoch 73/100\n",
      "233/233 [==============================] - 0s 2ms/step - loss: 6.6041e-04\n",
      "Epoch 74/100\n",
      "233/233 [==============================] - 0s 2ms/step - loss: 6.3094e-04\n",
      "Epoch 75/100\n",
      "233/233 [==============================] - 0s 2ms/step - loss: 6.6525e-04\n",
      "Epoch 76/100\n",
      "233/233 [==============================] - 0s 2ms/step - loss: 6.2859e-04\n",
      "Epoch 77/100\n",
      "233/233 [==============================] - 0s 2ms/step - loss: 5.6686e-04\n",
      "Epoch 78/100\n",
      "233/233 [==============================] - 0s 2ms/step - loss: 6.5597e-04\n",
      "Epoch 79/100\n",
      "233/233 [==============================] - 0s 2ms/step - loss: 6.3150e-04\n",
      "Epoch 80/100\n",
      "233/233 [==============================] - 0s 2ms/step - loss: 5.9774e-04\n",
      "Epoch 81/100\n",
      "233/233 [==============================] - 0s 2ms/step - loss: 6.4226e-04\n",
      "Epoch 82/100\n",
      "233/233 [==============================] - 0s 2ms/step - loss: 6.1401e-04\n",
      "Epoch 83/100\n",
      "233/233 [==============================] - 0s 2ms/step - loss: 6.4458e-04\n",
      "Epoch 84/100\n",
      "233/233 [==============================] - 0s 2ms/step - loss: 6.3653e-04\n",
      "Epoch 85/100\n",
      "233/233 [==============================] - 0s 2ms/step - loss: 6.2760e-04\n",
      "Epoch 86/100\n",
      "233/233 [==============================] - 0s 2ms/step - loss: 6.1436e-04\n",
      "Epoch 87/100\n",
      "233/233 [==============================] - 0s 2ms/step - loss: 6.2246e-04\n",
      "Epoch 88/100\n",
      "233/233 [==============================] - 0s 2ms/step - loss: 5.9901e-04\n",
      "Epoch 89/100\n",
      "233/233 [==============================] - 0s 2ms/step - loss: 5.6760e-04\n",
      "Epoch 90/100\n",
      "233/233 [==============================] - 0s 2ms/step - loss: 5.9682e-04\n",
      "Epoch 91/100\n",
      "233/233 [==============================] - 0s 2ms/step - loss: 6.0146e-04\n",
      "Epoch 92/100\n",
      "233/233 [==============================] - 0s 2ms/step - loss: 5.7918e-04\n",
      "Epoch 93/100\n",
      "233/233 [==============================] - 0s 2ms/step - loss: 5.7937e-04\n",
      "Epoch 94/100\n",
      "233/233 [==============================] - 0s 2ms/step - loss: 5.8898e-04\n",
      "Epoch 95/100\n",
      "233/233 [==============================] - 0s 2ms/step - loss: 6.2423e-04\n",
      "Epoch 96/100\n"
     ]
    },
    {
     "name": "stdout",
     "output_type": "stream",
     "text": [
      "233/233 [==============================] - 0s 2ms/step - loss: 6.1980e-04\n",
      "Epoch 97/100\n",
      "233/233 [==============================] - 0s 2ms/step - loss: 5.7204e-04\n",
      "Epoch 98/100\n",
      "233/233 [==============================] - 0s 2ms/step - loss: 5.6252e-04\n",
      "Epoch 99/100\n",
      "233/233 [==============================] - 0s 2ms/step - loss: 5.9637e-04\n",
      "Epoch 100/100\n",
      "233/233 [==============================] - 0s 2ms/step - loss: 6.0897e-04\n"
     ]
    },
    {
     "data": {
      "text/plain": [
       "<keras.callbacks.History at 0x1d5c190bf10>"
      ]
     },
     "execution_count": 4,
     "metadata": {},
     "output_type": "execute_result"
    }
   ],
   "source": [
    "model.fit(x, y, epochs=100)"
   ]
  },
  {
   "cell_type": "code",
   "execution_count": 28,
   "id": "78b9ece2",
   "metadata": {},
   "outputs": [
    {
     "name": "stdout",
     "output_type": "stream",
     "text": [
      "233/233 [==============================] - 0s 639us/step\n"
     ]
    }
   ],
   "source": [
    "predict = model.predict(x)"
   ]
  },
  {
   "cell_type": "code",
   "execution_count": 29,
   "id": "642635e0",
   "metadata": {},
   "outputs": [],
   "source": [
    "predict = predict * (max_y - min_y) + min_y"
   ]
  },
  {
   "cell_type": "code",
   "execution_count": 30,
   "id": "48553003",
   "metadata": {},
   "outputs": [
    {
     "data": {
      "text/plain": [
       "array([[-3.9318848],\n",
       "       [-3.4993896],\n",
       "       [-3.0277405],\n",
       "       ...,\n",
       "       [-8.669586 ],\n",
       "       [-8.119751 ],\n",
       "       [-7.632782 ]], dtype=float32)"
      ]
     },
     "execution_count": 30,
     "metadata": {},
     "output_type": "execute_result"
    }
   ],
   "source": [
    "predict"
   ]
  },
  {
   "cell_type": "code",
   "execution_count": 32,
   "id": "3729b72b",
   "metadata": {},
   "outputs": [
    {
     "name": "stdout",
     "output_type": "stream",
     "text": [
      "1/1 [==============================] - 0s 40ms/step\n"
     ]
    }
   ],
   "source": [
    "predict = model.predict([10])"
   ]
  },
  {
   "cell_type": "code",
   "execution_count": 33,
   "id": "02b7e42a",
   "metadata": {},
   "outputs": [
    {
     "data": {
      "text/plain": [
       "array([[2.4291446]], dtype=float32)"
      ]
     },
     "execution_count": 33,
     "metadata": {},
     "output_type": "execute_result"
    }
   ],
   "source": [
    "predict"
   ]
  },
  {
   "cell_type": "code",
   "execution_count": null,
   "id": "8320114b",
   "metadata": {},
   "outputs": [],
   "source": [
    "y"
   ]
  },
  {
   "cell_type": "code",
   "execution_count": 8,
   "id": "d8980378",
   "metadata": {},
   "outputs": [
    {
     "data": {
      "text/plain": [
       "0      -3.50923\n",
       "1      -3.34110\n",
       "2      -3.15988\n",
       "3      -2.98265\n",
       "4      -2.82426\n",
       "         ...   \n",
       "7448   -6.94489\n",
       "7449   -6.59464\n",
       "7450   -6.24611\n",
       "7451   -5.88990\n",
       "7452   -5.56084\n",
       "Name: POS_Y, Length: 7453, dtype: float64"
      ]
     },
     "execution_count": 8,
     "metadata": {},
     "output_type": "execute_result"
    }
   ],
   "source": [
    "df['POS_Y']"
   ]
  },
  {
   "cell_type": "code",
   "execution_count": 9,
   "id": "df8cb7d5",
   "metadata": {},
   "outputs": [],
   "source": [
    "model.save_weights('./regression_model_2023_02_14.h5')"
   ]
  },
  {
   "cell_type": "code",
   "execution_count": 34,
   "id": "7292f968",
   "metadata": {},
   "outputs": [],
   "source": [
    "import matplotlib.pyplot as plt"
   ]
  },
  {
   "cell_type": "code",
   "execution_count": 35,
   "id": "a68b5f8b",
   "metadata": {},
   "outputs": [
    {
     "data": {
      "image/png": "[encoded data removed]",
      "text/plain": [
       "<Figure size 640x480 with 1 Axes>"
      ]
     },
     "metadata": {},
     "output_type": "display_data"
    }
   ],
   "source": [
    "plt.plot(x,y,'r.')\n",
    "plt.show()"
   ]
  },
  {
   "cell_type": "code",
   "execution_count": 37,
   "id": "74126fe8",
   "metadata": {},
   "outputs": [
    {
     "data": {
      "text/plain": [
       "0.8"
      ]
     },
     "execution_count": 37,
     "metadata": {},
     "output_type": "execute_result"
    }
   ],
   "source": [
    "test_x = 0.8\n",
    "test_x"
   ]
  },
  {
   "cell_type": "code",
   "execution_count": 38,
   "id": "b19c6506",
   "metadata": {},
   "outputs": [
    {
     "data": {
      "text/plain": [
       "0.2"
      ]
     },
     "execution_count": 38,
     "metadata": {},
     "output_type": "execute_result"
    }
   ],
   "source": [
    "test_y = 0.2\n",
    "test_y"
   ]
  },
  {
   "cell_type": "code",
   "execution_count": 39,
   "id": "243c51db",
   "metadata": {},
   "outputs": [
    {
     "data": {
      "text/plain": [
       "array([[1.061624 ],\n",
       "       [1.0612099],\n",
       "       [1.0607643],\n",
       "       ...,\n",
       "       [1.064781 ],\n",
       "       [1.0644845],\n",
       "       [1.0642126]], dtype=float32)"
      ]
     },
     "execution_count": 39,
     "metadata": {},
     "output_type": "execute_result"
    }
   ],
   "source": [
    "distance = np.sqrt(np.square(test_x - x) + np.square(test_y - y))\n",
    "distance"
   ]
  },
  {
   "cell_type": "code",
   "execution_count": 40,
   "id": "2a130ee1",
   "metadata": {},
   "outputs": [
    {
     "data": {
      "text/plain": [
       "0.0028586122"
      ]
     },
     "execution_count": 40,
     "metadata": {},
     "output_type": "execute_result"
    }
   ],
   "source": [
    "distance.min()"
   ]
  },
  {
   "cell_type": "code",
   "execution_count": 42,
   "id": "c371d3db",
   "metadata": {},
   "outputs": [
    {
     "name": "stdout",
     "output_type": "stream",
     "text": [
      "895.674\n",
      "-18.1231\n",
      "0.290451\n",
      "-408.805\n"
     ]
    }
   ],
   "source": [
    "print(max_x)\n",
    "print(min_x)\n",
    "print(max_y)\n",
    "print(min_y)"
   ]
  },
  {
   "cell_type": "code",
   "execution_count": null,
   "id": "8384c055",
   "metadata": {},
   "outputs": [],
   "source": []
  },
  {
   "cell_type": "code",
   "execution_count": null,
   "id": "6f66a1c5",
   "metadata": {},
   "outputs": [],
   "source": []
  }
 ],
 "metadata": {
  "kernelspec": {
   "display_name": "airsim",
   "language": "python",
   "name": "venv"
  },
  "language_info": {
   "codemirror_mode": {
    "name": "ipython",
    "version": 3
   },
   "file_extension": ".py",
   "mimetype": "text/x-python",
   "name": "python",
   "nbconvert_exporter": "python",
   "pygments_lexer": "ipython3",
   "version": "3.10.4"
  }
 },
 "nbformat": 4,
 "nbformat_minor": 5
}
